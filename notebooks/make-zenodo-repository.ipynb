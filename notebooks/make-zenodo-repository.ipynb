{
 "cells": [
  {
   "cell_type": "markdown",
   "id": "a14c0ffd",
   "metadata": {},
   "source": [
    "# 🏛️ Make a `zenodo` Repository\n",
    "\n",
    "This notebook collects important data files that we should publish along with the paper. These include, for the subsets `['any', 'solar', 'exo']` and the atmosphere kinds `['any', 'CO2']`\n",
    "\n",
    "- the organized populations\n",
    "- the posterior samples, summaries, covariance matrices"
   ]
  },
  {
   "cell_type": "code",
   "execution_count": null,
   "id": "bda7a28d",
   "metadata": {},
   "outputs": [],
   "source": [
    "from exoatlas import * "
   ]
  },
  {
   "cell_type": "code",
   "execution_count": null,
   "id": "464af41d",
   "metadata": {},
   "outputs": [],
   "source": [
    "directories = ['posteriors', 'organized-exoatlas-populations']\n",
    "base_directory = 'upload-to-zenodo'\n",
    "\n",
    "mkdir(base_directory)\n",
    "\n",
    "for d in directories:\n",
    "    mkdir(f'{base_directory}/{d}')\n",
    "    for kind in ['any', 'CO2']:\n",
    "        for subset in ['all', 'exo', 'solar']:\n",
    "            suffix = f'{subset}-{kind}'\n",
    "            for f in glob.glob(f'{d}/*{suffix}*'):\n",
    "                shutil.copy(f, f'{base_directory}/{d}/.')\n",
    "        if d == 'posteriors':\n",
    "            shutil.copy(f'{base_directory}/{d}/all-any-uncertainties=True-numpyro.nc',\n",
    "                        f'{base_directory}/shoreline-posterior-samples-{kind}-atmosphere.nc')\n",
    "    shutil.make_archive(f'{base_directory}/{d}', 'zip', f'{base_directory}/{d}/')\n",
    "    shutil.rmtree(f'{base_directory}/{d}/')"
   ]
  },
  {
   "cell_type": "code",
   "execution_count": null,
   "id": "f32986a9",
   "metadata": {},
   "outputs": [],
   "source": [
    "ls upload-to-zenodo/"
   ]
  }
 ],
 "metadata": {
  "kernelspec": {
   "display_name": "exoatlas",
   "language": "python",
   "name": "python3"
  },
  "language_info": {
   "codemirror_mode": {
    "name": "ipython",
    "version": 3
   },
   "file_extension": ".py",
   "mimetype": "text/x-python",
   "name": "python",
   "nbconvert_exporter": "python",
   "pygments_lexer": "ipython3",
   "version": "3.13.2"
  }
 },
 "nbformat": 4,
 "nbformat_minor": 5
}
