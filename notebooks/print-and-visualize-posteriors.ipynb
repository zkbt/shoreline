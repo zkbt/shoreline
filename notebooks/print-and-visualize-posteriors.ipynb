{
 "cells": [
  {
   "cell_type": "markdown",
   "id": "7f89a624",
   "metadata": {},
   "source": [
    "# Compare posteriors.\n",
    "\n",
    "This notebook loads up posterior distributions for different shoreline options and visualizes them with corner plots. "
   ]
  },
  {
   "cell_type": "code",
   "execution_count": null,
   "id": "edfe5018",
   "metadata": {},
   "outputs": [],
   "source": [
    "from shoreline import * "
   ]
  },
  {
   "cell_type": "code",
   "execution_count": null,
   "id": "7aa4f464",
   "metadata": {},
   "outputs": [],
   "source": [
    "import arviz as az \n",
    "import corner \n",
    "\n",
    "print('Here are the available posteriors:')\n",
    "posteriors = {}\n",
    "for f in glob.glob('posteriors/*-numpyro.nc'):\n",
    "    k = f.split('/')[1].split('-numpyro.nc')[0]\n",
    "    print(f' {k}')\n",
    "    posteriors[k] = az.from_netcdf(f)\n",
    "    "
   ]
  },
  {
   "cell_type": "markdown",
   "id": "ed7a0ce0",
   "metadata": {},
   "source": [
    "$$ \\log_{10} f_{\\sf shoreline}  =  \\log_{10} f_{\\sf 0} + p \\cdot  \\log_{10} \\left(\\frac{v_{\\sf esc}}{v_{\\sf esc, \\oplus}}\\right) + q \\cdot  \\log_{10} \\left(\\frac{L_\\star}{L_\\odot}\\right)$$\n",
    "\n",
    "The intersection with the habitable zone is roughly $f_{\\sf shoreline} = 1$, $v_{\\sf esc}/v_{\\sf esc, \\oplus}=1$:\n",
    "\n",
    "$$ - \\frac{\\log_{10} f_{\\sf 0}}{q} =    \\log_{10} \\left(\\frac{L_\\star}{L_\\odot}\\right)$$\n"
   ]
  },
  {
   "cell_type": "markdown",
   "id": "e4dad8f0",
   "metadata": {},
   "source": [
    "Print out parameter values + confidence intervals."
   ]
  },
  {
   "cell_type": "code",
   "execution_count": null,
   "id": "4085b975",
   "metadata": {},
   "outputs": [],
   "source": [
    "var_names = [\"log_f_0\", \"p\", \"q\", \"ln_w\"] \n",
    "to_latex = {\"log_f_0\":'\\log_{10} f_0', \n",
    "            \"p\":\"p\", \n",
    "            \"q\":\"q\", \n",
    "            \"ln_w\":\"\\ln w\"} \n",
    "\n",
    "func_dict = {\n",
    "    \"median\": np.median,\n",
    "    \"lower\": lambda x: np.median(x) - np.percentile(x, 50-68.3/2), \n",
    "    \"upper\": lambda x: np.percentile(x, 50+68.3/2) - np.median(x) }\n",
    "\n",
    "def create_latex_name(s):\n",
    "    return clean(s).replace('0', 'o')\n",
    "\n",
    "for kind, inference in posteriors.items():\n",
    "    print(kind)\n",
    "\n",
    "    po = inference.posterior\n",
    "    po['logL_nohz'] = -po['log_f_0']/po['q']\n",
    "    po['L_nohz'] = 10**po['logL_nohz']\n",
    "\n",
    "    summary = az.summary(inference,  stat_funcs=func_dict) #var_names=var_names + ['w'],\n",
    "    for k in summary['median'].keys():\n",
    "        lower, upper = summary[\"lower\"][k], summary[\"upper\"][k] \n",
    "        symmetric = np.abs(lower - upper)/(lower + upper) < 0.1\n",
    "        l = to_latex.get(k, k)\n",
    "        if symmetric:\n",
    "            sigma = (lower + upper)/2\n",
    "            s = f'{summary[\"median\"][k]:.3g} \\pm {sigma:.2g}'\n",
    "        else:\n",
    "            s = f'{summary[\"median\"][k]:.3g}_{{-{lower:.2g}}}^{{+{upper:.2g}}}'\n",
    "        \n",
    "        print(rf'\\newcommand{{\\{create_latex_name(k)}}}{{{s}}}')\n",
    "\n",
    "\n",
    "    print()"
   ]
  },
  {
   "cell_type": "code",
   "execution_count": null,
   "id": "fb681575",
   "metadata": {},
   "outputs": [],
   "source": [
    " 1.0 - np.exp(-0.5 * np.arange(0.5, 2.1, 0.5) ** 2)"
   ]
  },
  {
   "cell_type": "code",
   "execution_count": null,
   "id": "daad63e6",
   "metadata": {},
   "outputs": [],
   "source": [
    "from scipy.special import erf\n",
    "levels = erf(np.arange(1,3)/np.sqrt(2))\n",
    "levels"
   ]
  },
  {
   "cell_type": "code",
   "execution_count": null,
   "id": "e5045d48",
   "metadata": {},
   "outputs": [],
   "source": [
    "%matplotlib widget"
   ]
  },
  {
   "cell_type": "code",
   "execution_count": null,
   "id": "f151f41b",
   "metadata": {},
   "outputs": [],
   "source": [
    "posteriors.keys()"
   ]
  },
  {
   "cell_type": "code",
   "execution_count": null,
   "id": "679016fa",
   "metadata": {},
   "outputs": [],
   "source": [
    "plt.close(\"all\")\n",
    "figsize=(6,6)\n",
    "question = {\"any\": \"Any atmosphere or surface volatiles?\", \"CO2\": \"Warm CO$_2$ atmosphere?\"}\n",
    "better_titles = [\"$\\sf \\log_{10}f_0$\", \"$\\sf p$\", \"$\\sf q$\", \"$\\sf \\ln w$\"]\n",
    "\n",
    "kw = dict(\n",
    "    var_names=var_names,\n",
    "    labels=better_titles,\n",
    "    bins=50,\n",
    "    levels=levels,\n",
    "    plot_density=False,\n",
    "    plot_datapoints=False,\n",
    "    show_titles=True,\n",
    "    title_kwargs=dict(fontsize=9),\n",
    "    range=[[-1, 6], [0, 10], [0, 3], [-6, 2]],\n",
    ")\n",
    "for kind in [\"any\", \"CO2\"]:\n",
    "    labels = {\n",
    "        \"all\": f\"Exoplanets + Solar System\",\n",
    "        \"exo\": \"Exoplanets Only\",\n",
    "        \"solar\": \"Solar System Only\",\n",
    "    }\n",
    "    fig = plt.figure(figsize=figsize)\n",
    "    colors = {\n",
    "        f\"solar-{kind}\": \"mediumslateblue\",\n",
    "        f\"exo-{kind}\": \"tomato\",\n",
    "        f\"all-{kind}\": \"black\",\n",
    "    }\n",
    "    for k in colors:\n",
    "        if \"all\" in k:\n",
    "            alpha = 1\n",
    "        else:\n",
    "            alpha = 0.5\n",
    "        corner.corner(\n",
    "            posteriors[f'{k}-uncertainties=True'],\n",
    "            color=colors[k],\n",
    "            hist_kwargs=dict(density=True, label=labels[k.split(\"-\")[0]]),\n",
    "            fig=fig,\n",
    "            contour_kwargs=dict(alpha=alpha, color=colors[k]),\n",
    "            **kw,\n",
    "        )\n",
    "    plt.sca(fig.get_axes()[0])\n",
    "    plt.legend(bbox_to_anchor=(1, 1), frameon=False)\n",
    "    plt.sca(fig.get_axes()[2])\n",
    "    plt.title(question[kind])\n",
    "    #for ax in fig.get_axes():\n",
    "    #    ax.title.set_size(10)\n",
    "        #title = ax.get_title()\n",
    "        #if title != '':\n",
    "        #    ax.set_title(title.replace('=', '=\\n'))\n",
    "    plt.savefig(f\"figures/posteriors-{kind}.pdf\")"
   ]
  },
  {
   "cell_type": "code",
   "execution_count": null,
   "id": "f5c76973",
   "metadata": {},
   "outputs": [],
   "source": [
    "fig = plt.figure(figsize=figsize)\n",
    "subset = 'all'\n",
    "for kind in [\"any\", \"CO2\"]:\n",
    "    kind_label = {\"any\": 'any atmosphere', \n",
    "                  \"CO2\":'CO$_2$ atmosphere'}\n",
    "    uncertainty_labels = {True:f'with uncertainties', \n",
    "                          False:f'without uncertainties'}\n",
    "    \n",
    "    colors = {f\"any\": \"green\", \"CO2\": \"orchid\"}\n",
    "    # corner.corner(posteriors[f'all-{kind}'], color=colors[kind], hist_kwargs=dict(density=True, label=kind), fig=fig, **kw)\n",
    "    for u in [True, False]:\n",
    "        alpha = {True: 1.0, False: 0.3}[u]\n",
    "        color_kwargs = dict(alpha=alpha, color=colors[kind])\n",
    "        corner.corner(\n",
    "            posteriors[f\"{subset}-{kind}-uncertainties={u}\"],\n",
    "            color=colors[kind],\n",
    "            contour_kwargs=color_kwargs,\n",
    "            hist_kwargs=color_kwargs | dict(density=True, label=f'{kind_label[kind]}, {uncertainty_labels[u]}'),\n",
    "            fig=fig,\n",
    "            **(kw | dict(show_titles = False)),\n",
    "        )\n",
    "    plt.sca(fig.get_axes()[0])\n",
    "    plt.legend(bbox_to_anchor=(1, 1), frameon=False)\n",
    "    plt.sca(fig.get_axes()[0])\n",
    "    plt.legend(bbox_to_anchor=(1, 1), frameon=False)\n",
    "    plt.savefig('figures/posteriors-with-and-without-uncertainties.pdf')"
   ]
  },
  {
   "cell_type": "code",
   "execution_count": null,
   "id": "47fde779",
   "metadata": {},
   "outputs": [],
   "source": [
    "levels"
   ]
  },
  {
   "cell_type": "markdown",
   "id": "be37c2d6",
   "metadata": {},
   "source": [
    "Look at exoplanets-only, solar-system-only, everything together.\n",
    "I think I have to keep in the H-atmopsheres to reign in the "
   ]
  },
  {
   "cell_type": "markdown",
   "id": "39196ac5",
   "metadata": {},
   "source": []
  }
 ],
 "metadata": {
  "kernelspec": {
   "display_name": "exoatlas",
   "language": "python",
   "name": "python3"
  },
  "language_info": {
   "codemirror_mode": {
    "name": "ipython",
    "version": 3
   },
   "file_extension": ".py",
   "mimetype": "text/x-python",
   "name": "python",
   "nbconvert_exporter": "python",
   "pygments_lexer": "ipython3",
   "version": "3.13.2"
  }
 },
 "nbformat": 4,
 "nbformat_minor": 5
}
