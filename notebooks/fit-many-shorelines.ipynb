{
 "cells": [
  {
   "cell_type": "markdown",
   "id": "8415c295",
   "metadata": {},
   "source": [
    "# Fit Many Shorelines\n",
    "\n",
    "This notebook loops through every combindation\n",
    "- subset `['all', 'exo', 'solar']` \n",
    "- type of atmosphere `['any', 'CO2']`\n",
    "- whether to include uncertaintes `[True, False]` \n",
    "and runs a shoreline inference for each.\n",
    "\n",
    "Sometimes running all these notebooks clogs up memory, and it needs to be restarted."
   ]
  },
  {
   "cell_type": "code",
   "execution_count": null,
   "id": "805c0751",
   "metadata": {},
   "outputs": [],
   "source": [
    "from shoreline import * "
   ]
  },
  {
   "cell_type": "markdown",
   "id": "8aa9cb0c",
   "metadata": {},
   "source": []
  },
  {
   "cell_type": "code",
   "execution_count": null,
   "id": "5313b615",
   "metadata": {},
   "outputs": [],
   "source": [
    "num_warmup=5000\n",
    "num_samples=50000\n",
    "num_chains=4"
   ]
  },
  {
   "cell_type": "code",
   "execution_count": null,
   "id": "cba30013",
   "metadata": {},
   "outputs": [],
   "source": [
    "for kind in ['any', 'CO2']:#, 'any_small', 'CO2_small']:\n",
    "    for subset in ['all', 'exo', 'solar']:\n",
    "        for uncertainties in [True, False]:\n",
    "            subset_and_kind = f'{subset}-{kind}'\n",
    "            try:\n",
    "                %run fit-one-shoreline.ipynb\n",
    "            except AssertionError:\n",
    "                pass\n"
   ]
  }
 ],
 "metadata": {
  "kernelspec": {
   "display_name": "exoatlas",
   "language": "python",
   "name": "python3"
  },
  "language_info": {
   "codemirror_mode": {
    "name": "ipython",
    "version": 3
   },
   "file_extension": ".py",
   "mimetype": "text/x-python",
   "name": "python",
   "nbconvert_exporter": "python",
   "pygments_lexer": "ipython3",
   "version": "3.13.2"
  }
 },
 "nbformat": 4,
 "nbformat_minor": 5
}
