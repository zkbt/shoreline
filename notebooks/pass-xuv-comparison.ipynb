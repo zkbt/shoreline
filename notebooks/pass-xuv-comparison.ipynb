{
 "cells": [
  {
   "cell_type": "markdown",
   "id": "8257eb17",
   "metadata": {},
   "source": [
    "## 🩻 Compare $q$ to Pass et al. (2025)\n",
    "\n",
    "This tiny notebook translates the historic XUV fluences from [Pass et al. (2025)](https://ui.adsabs.harvard.edu/abs/2025arXiv250401182P/abstract) into limits on the stellar luminosity scaling $q$.\n"
   ]
  },
  {
   "cell_type": "code",
   "execution_count": null,
   "id": "85692ba1",
   "metadata": {},
   "outputs": [],
   "source": [
    "from shoreline import * "
   ]
  },
  {
   "cell_type": "code",
   "execution_count": null,
   "id": "be7ad12d",
   "metadata": {},
   "outputs": [],
   "source": [
    "# from Table 1 of Pass et al. (2025)\n",
    "t = Table(dict(M=[0.10, 0.12, 0.15, 0.20, 0.25, 0.30], \n",
    "               L_bol=[0.00086, 0.0018, 0.0031, 0.0053, 0.0075, 0.01], \n",
    "               I_XUV_no_flares=[0.073, 0.14, 0.22, 0.29, 0.30, 0.25],\n",
    "               I_XUV_at_one_AU=[0.11, 0.21, 0.31, 0.41, 0.43, 0.38]))\n",
    "t.add_row([1.0, 1.0, 1.0, 1.0])\n",
    "t"
   ]
  },
  {
   "cell_type": "code",
   "execution_count": null,
   "id": "de75fa6b",
   "metadata": {},
   "outputs": [],
   "source": [
    "L = t['L_bol']\n",
    "L_xuv = t['I_XUV_at_one_AU']\n",
    "fraction = L_xuv/L\n",
    "t['q']= -np.log(fraction)/np.log(L)\n",
    "t"
   ]
  },
  {
   "cell_type": "code",
   "execution_count": null,
   "id": "5d116128",
   "metadata": {},
   "outputs": [],
   "source": [
    "q = np.nanmedian(t['q'])\n",
    "q_max = np.nanmax(t['q'])\n",
    "q_min = np.nanmin(t['q'])\n",
    "\n",
    "print(f'q={{{q:+.2f}}}^{{{q_max-q:+.2f}}}_{{{q_min-q:+.2f}}}')\n",
    "\n",
    "print(f'{q=:+.2}, {q_max=:+.2}, {q_min=:+.2}')"
   ]
  },
  {
   "cell_type": "code",
   "execution_count": null,
   "id": "3c9b94da",
   "metadata": {},
   "outputs": [],
   "source": [
    "plt.loglog(L, fraction, marker='o')\n",
    "\n",
    "plt.axis('scaled')\n",
    "x = np.logspace(-4, 1)\n",
    "\n",
    "for _ in [q, q_min, q_max]:\n",
    "    plt.plot(x, x**-_, label=f'q={_:.2}', color='gray', alpha=0.5)\n",
    "plt.legend()\n",
    "plt.xlabel('$L_{\\sf bol}$')\n",
    "plt.ylabel('$L_{\\sf xuv}/L_{\\sf bol}$');"
   ]
  }
 ],
 "metadata": {
  "kernelspec": {
   "display_name": "exoatlas",
   "language": "python",
   "name": "python3"
  },
  "language_info": {
   "codemirror_mode": {
    "name": "ipython",
    "version": 3
   },
   "file_extension": ".py",
   "mimetype": "text/x-python",
   "name": "python",
   "nbconvert_exporter": "python",
   "pygments_lexer": "ipython3",
   "version": "3.13.2"
  }
 },
 "nbformat": 4,
 "nbformat_minor": 5
}
