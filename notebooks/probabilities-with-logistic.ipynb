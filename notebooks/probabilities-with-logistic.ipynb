{
 "cells": [
  {
   "cell_type": "code",
   "execution_count": null,
   "id": "29389f29",
   "metadata": {},
   "outputs": [],
   "source": [
    "from shoreline import * "
   ]
  },
  {
   "cell_type": "markdown",
   "id": "f3dfc6eb",
   "metadata": {},
   "source": [
    "$$ p = \\frac{1}{1+e^{\\Delta/w}} $$\n",
    "\n",
    "$$ {\\Delta} = w\\ln \\left(\\frac{1-p}{p}\\right) = $$\n"
   ]
  },
  {
   "cell_type": "code",
   "execution_count": null,
   "id": "9395608f",
   "metadata": {},
   "outputs": [],
   "source": [
    "p = np.array([0.5, 0.27, 0.16, 0.05]) \n",
    "delta_over_w = np.log((1-p)/p)\n",
    "delta_over_w\n",
    "Table(dict(p=p, delta_over_w=delta_over_w))"
   ]
  },
  {
   "cell_type": "markdown",
   "id": "1b58c143",
   "metadata": {},
   "source": []
  }
 ],
 "metadata": {
  "kernelspec": {
   "display_name": "exoatlas",
   "language": "python",
   "name": "python3"
  },
  "language_info": {
   "codemirror_mode": {
    "name": "ipython",
    "version": 3
   },
   "file_extension": ".py",
   "mimetype": "text/x-python",
   "name": "python",
   "nbconvert_exporter": "python",
   "pygments_lexer": "ipython3",
   "version": "3.13.2"
  }
 },
 "nbformat": 4,
 "nbformat_minor": 5
}
