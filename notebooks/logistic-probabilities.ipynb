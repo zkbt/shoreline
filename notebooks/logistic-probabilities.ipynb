{
 "cells": [
  {
   "cell_type": "markdown",
   "id": "dfbf0b4b",
   "metadata": {},
   "source": [
    "## 🪵 Interpret logistic width $w$\n",
    "\n",
    "This tiny notebook helps translate the width of the logistic function into some other probabilities we might care about. "
   ]
  },
  {
   "cell_type": "code",
   "execution_count": null,
   "id": "29389f29",
   "metadata": {},
   "outputs": [],
   "source": [
    "from shoreline import * "
   ]
  },
  {
   "cell_type": "markdown",
   "id": "f3dfc6eb",
   "metadata": {},
   "source": [
    "\n",
    "$$\\sf  p = \\frac{1}{1+e^{\\Delta/w}} $$\n",
    "\n",
    "$$\\sf {\\Delta} = w\\ln \\left(\\frac{1-p}{p}\\right)$$\n"
   ]
  },
  {
   "cell_type": "markdown",
   "id": "352e43e2",
   "metadata": {},
   "source": [
    "Let's calculate how probabilities correspond to \"how many $w$\" away from the center of the shoreline."
   ]
  },
  {
   "cell_type": "code",
   "execution_count": null,
   "id": "9395608f",
   "metadata": {},
   "outputs": [],
   "source": [
    "p = np.array([0.95, 0.84, 0.73, 0.5, 0.27, 0.16, 0.05]) \n",
    "delta_over_w = np.log((1-p)/p)\n",
    "delta_over_w\n",
    "t = Table(dict(p=p, delta_over_w=delta_over_w))\n",
    "t"
   ]
  },
  {
   "cell_type": "markdown",
   "id": "007dc2e7",
   "metadata": {},
   "source": [
    "Let's define $\\sf w_{95}$ as the distance spanned between atmopsheres being 95% probable to being 95% improbable."
   ]
  },
  {
   "cell_type": "code",
   "execution_count": null,
   "id": "64be1bf0",
   "metadata": {},
   "outputs": [],
   "source": [
    "w95_over_w = delta_over_w[-1] - delta_over_w[0]\n",
    "w95_over_w"
   ]
  },
  {
   "cell_type": "markdown",
   "id": "c0eaf6a3",
   "metadata": {},
   "source": [
    "Let's make a plot illustrating $\\sf w_{95}$."
   ]
  },
  {
   "cell_type": "code",
   "execution_count": null,
   "id": "b2f379f0",
   "metadata": {},
   "outputs": [],
   "source": [
    "delta_grid = np.linspace(-10, 10)\n",
    "p_grid = 1/(1 + np.exp(delta_grid))\n",
    "delta_95 = np.array([-1, 1])*w95_over_w/2\n",
    "p_95 = 1/(1 + np.exp(delta_95))\n",
    "\n",
    "plt.figure(figsize=(8,3))\n",
    "plt.plot(delta_grid, p_grid)\n",
    "plt.scatter(delta_95, p_95)\n",
    "plt.axvspan(*delta_95, alpha=0.3, label=f'w95 = {w95_over_w:.2f}w')\n",
    "plt.legend()\n",
    "plt.xlabel('$\\Delta/w$')\n",
    "plt.ylabel('p');\n"
   ]
  },
  {
   "cell_type": "markdown",
   "id": "1b58c143",
   "metadata": {},
   "source": []
  }
 ],
 "metadata": {
  "kernelspec": {
   "display_name": "exoatlas",
   "language": "python",
   "name": "python3"
  },
  "language_info": {
   "codemirror_mode": {
    "name": "ipython",
    "version": 3
   },
   "file_extension": ".py",
   "mimetype": "text/x-python",
   "name": "python",
   "nbconvert_exporter": "python",
   "pygments_lexer": "ipython3",
   "version": "3.13.2"
  }
 },
 "nbformat": 4,
 "nbformat_minor": 5
}
