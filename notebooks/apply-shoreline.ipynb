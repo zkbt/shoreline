{
 "cells": [
  {
   "cell_type": "markdown",
   "id": "7ae16754",
   "metadata": {},
   "source": [
    "## Apply the Shoreline \n",
    "\n",
    "This notebook applies the posterior parameter samples to a few basic questions in the conclusions of Berta-Thompson et al. (2025)."
   ]
  },
  {
   "cell_type": "code",
   "execution_count": null,
   "id": "32619264",
   "metadata": {},
   "outputs": [],
   "source": [
    "from shoreline import * "
   ]
  },
  {
   "cell_type": "markdown",
   "id": "51c32c5a",
   "metadata": {},
   "source": [
    "We'll use the \"all planets, any type of atmosphere\" shoreline, as it's the most constrained. "
   ]
  },
  {
   "cell_type": "code",
   "execution_count": null,
   "id": "616d0394",
   "metadata": {},
   "outputs": [],
   "source": [
    "po = az.from_netcdf('posteriors/all-any-uncertainties=True-numpyro.nc').posterior\n",
    "po\n",
    "    "
   ]
  },
  {
   "cell_type": "markdown",
   "id": "39d83c3b",
   "metadata": {},
   "source": [
    "## How much bigger would Mercury need to be to retain an atmosphere?"
   ]
  },
  {
   "cell_type": "code",
   "execution_count": null,
   "id": "1834ff03",
   "metadata": {},
   "outputs": [],
   "source": [
    "m = SolarSystem()['Mercury']\n",
    "m.semimajoraxis(), m.relative_insolation()"
   ]
  },
  {
   "cell_type": "code",
   "execution_count": null,
   "id": "a96e29a8",
   "metadata": {},
   "outputs": [],
   "source": [
    "f_mercury = m.relative_insolation()\n",
    "f_0 = 10**po['log_f_0']\n",
    "p = po['p']\n",
    "po['mercury_escape_velocity'] = (f_mercury/f_0)**(1/p)\n",
    "v_ratio = po['mercury_escape_velocity']/m.relative_escape_velocity()\n",
    "po['mercury_r_ratio'] = v_ratio**(2/(3.375 - 1))\n",
    "po['mercury_r'] =po['mercury_r_ratio']*m.radius()[0].value"
   ]
  },
  {
   "cell_type": "markdown",
   "id": "3f669396",
   "metadata": {},
   "source": [
    "## How much hotter could Venus be before losing its atmosphere? "
   ]
  },
  {
   "cell_type": "code",
   "execution_count": null,
   "id": "0cbe392f",
   "metadata": {},
   "outputs": [],
   "source": [
    "v = SolarSystem()['Venus']\n",
    "v.relative_escape_velocity()"
   ]
  },
  {
   "cell_type": "code",
   "execution_count": null,
   "id": "6e49f018",
   "metadata": {},
   "outputs": [],
   "source": [
    "\n",
    "po['venus-flux'] = f_0*v.relative_escape_velocity()**p\n",
    "po['venus-logflux'] = np.log10(po['venus-flux'])\n",
    "po['venus-semimajor'] = po['venus-flux']**(-0.5)\n"
   ]
  },
  {
   "cell_type": "markdown",
   "id": "b74043f3",
   "metadata": {},
   "source": [
    "## How faint a star could Earth orbit and stay habitable? "
   ]
  },
  {
   "cell_type": "code",
   "execution_count": null,
   "id": "7545795e",
   "metadata": {},
   "outputs": [],
   "source": [
    "q = po['q'] \n",
    "#po['earth-luminosity-limit'] = (1/f_0)**(1/q)\n",
    "#po['earth-log-luminosity-limit'] = np.log10(po['earth-luminosity-limit'])\n",
    "po['earth-log-luminosity-limit'] = -po['log_f_0']/po['q']\n",
    "po['earth-luminosity-limit'] = 10**po['earth-log-luminosity-limit']\n",
    "R = 1.5\n",
    "v = R**(1/0.842)\n",
    "po['earth-and-a-half-luminosity-limit'] = (1/f_0*1/v**p)**(1/q)\n",
    "po['earth-and-a-half-log-luminosity-limit'] = np.log10(po['earth-and-a-half-luminosity-limit'])\n"
   ]
  },
  {
   "cell_type": "markdown",
   "id": "9b14cf8e",
   "metadata": {},
   "source": [
    "## How sudden is the transition? "
   ]
  },
  {
   "cell_type": "code",
   "execution_count": null,
   "id": "9079c5e6",
   "metadata": {},
   "outputs": [],
   "source": [
    "po['w95-f'] = 5.88*po['w']\n",
    "po['w95-v'] = po['w95-f']/po['p']\n",
    "po['w95-L'] = po['w95-f']/po['q']\n"
   ]
  },
  {
   "cell_type": "markdown",
   "id": "8194751a",
   "metadata": {},
   "source": [
    "## How likely are the Rocky Worlds targets to have atmospheres? "
   ]
  },
  {
   "cell_type": "code",
   "execution_count": null,
   "id": "278ba586",
   "metadata": {},
   "outputs": [],
   "source": [
    "A = load_organized_populations(label='everything', subpop='transit', subset='all', kind='any')\n",
    "t = A['all-any']['everything']['transit']\n",
    "t\n"
   ]
  },
  {
   "cell_type": "code",
   "execution_count": null,
   "id": "08b09cfd",
   "metadata": {},
   "outputs": [],
   "source": [
    "sampled_parameters = {k:jnp.array(po[k]) for k in ['log_f_0', 'p', 'q', 'ln_w']}\n",
    "for k in ['LTT1445Ac', 'GJ 3929 b', 'LTT 1445 A b', 'LHS 1140 b']:\n",
    "    e = t[k]\n",
    "    p_samples = probability_of_atmosphere(log_f=jnp.log10(e.relative_insolation()[0]), \n",
    "                              log_L=jnp.log10(e.stellar_luminosity().to_value('L_sun')[0]),\n",
    "                              log_v=jnp.log10(e.relative_escape_velocity()[0]),\n",
    "                              **sampled_parameters\n",
    "                              )\n",
    "    po[f'probability-{k}'] = ['chain','draw'], p_samples*100\n"
   ]
  },
  {
   "cell_type": "code",
   "execution_count": null,
   "id": "de3311b7",
   "metadata": {},
   "outputs": [],
   "source": [
    "az.summary(po, stat_focus='median')"
   ]
  },
  {
   "cell_type": "markdown",
   "id": "2cc825dd",
   "metadata": {},
   "source": [
    "## (write these all out in LaTeX variables we can use)"
   ]
  },
  {
   "cell_type": "code",
   "execution_count": null,
   "id": "bb9ddf37",
   "metadata": {},
   "outputs": [],
   "source": [
    "with open('posteriors-applications.tex', 'w') as f:\n",
    "    lines = latexify(po, label='apply')\n",
    "    f.writelines(lines)"
   ]
  },
  {
   "cell_type": "code",
   "execution_count": null,
   "id": "cdf50414",
   "metadata": {},
   "outputs": [],
   "source": [
    "!cat posteriors-applications.tex"
   ]
  },
  {
   "cell_type": "code",
   "execution_count": null,
   "id": "d45e06f7",
   "metadata": {},
   "outputs": [],
   "source": []
  }
 ],
 "metadata": {
  "kernelspec": {
   "display_name": "exoatlas",
   "language": "python",
   "name": "python3"
  },
  "language_info": {
   "codemirror_mode": {
    "name": "ipython",
    "version": 3
   },
   "file_extension": ".py",
   "mimetype": "text/x-python",
   "name": "python",
   "nbconvert_exporter": "python",
   "pygments_lexer": "ipython3",
   "version": "3.13.2"
  }
 },
 "nbformat": 4,
 "nbformat_minor": 5
}
